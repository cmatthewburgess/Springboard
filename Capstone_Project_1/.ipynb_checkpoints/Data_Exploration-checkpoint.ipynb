{
 "cells": [
  {
   "cell_type": "markdown",
   "metadata": {},
   "source": [
    "# Data Cleaning and Exploration: Election Poll Error and Reliability"
   ]
  },
  {
   "cell_type": "markdown",
   "metadata": {},
   "source": [
    "Import Relevant Packages and Data"
   ]
  },
  {
   "cell_type": "code",
   "execution_count": 47,
   "metadata": {},
   "outputs": [],
   "source": [
    "import numpy as np\n",
    "import pandas as pd\n",
    "import scipy.stats as stats\n",
    "import matplotlib.pyplot as plt\n",
    "import seaborn as sns"
   ]
  },
  {
   "cell_type": "code",
   "execution_count": 48,
   "metadata": {},
   "outputs": [
    {
     "data": {
      "text/html": [
       "<div>\n",
       "<style scoped>\n",
       "    .dataframe tbody tr th:only-of-type {\n",
       "        vertical-align: middle;\n",
       "    }\n",
       "\n",
       "    .dataframe tbody tr th {\n",
       "        vertical-align: top;\n",
       "    }\n",
       "\n",
       "    .dataframe thead th {\n",
       "        text-align: right;\n",
       "    }\n",
       "</style>\n",
       "<table border=\"1\" class=\"dataframe\">\n",
       "  <thead>\n",
       "    <tr style=\"text-align: right;\">\n",
       "      <th></th>\n",
       "      <th>pollno</th>\n",
       "      <th>race</th>\n",
       "      <th>year</th>\n",
       "      <th>location</th>\n",
       "      <th>type_simple</th>\n",
       "      <th>pollster</th>\n",
       "      <th>polldate</th>\n",
       "      <th>samplesize</th>\n",
       "      <th>cand1_name</th>\n",
       "      <th>cand1_pct</th>\n",
       "      <th>...</th>\n",
       "      <th>cand3_pct</th>\n",
       "      <th>margin_poll</th>\n",
       "      <th>electiondate</th>\n",
       "      <th>cand1_actual</th>\n",
       "      <th>cand2_actual</th>\n",
       "      <th>margin_actual</th>\n",
       "      <th>error</th>\n",
       "      <th>bias</th>\n",
       "      <th>rightcall</th>\n",
       "      <th>partisan</th>\n",
       "    </tr>\n",
       "  </thead>\n",
       "  <tbody>\n",
       "    <tr>\n",
       "      <th>0</th>\n",
       "      <td>87909</td>\n",
       "      <td>1998_Gov-G_NY</td>\n",
       "      <td>1998</td>\n",
       "      <td>NY</td>\n",
       "      <td>Gov-G</td>\n",
       "      <td>Blum &amp; Weprin Associates</td>\n",
       "      <td>10/13/98</td>\n",
       "      <td>364.0</td>\n",
       "      <td>Democrat</td>\n",
       "      <td>26.0</td>\n",
       "      <td>...</td>\n",
       "      <td>9.0</td>\n",
       "      <td>-31.0</td>\n",
       "      <td>11/3/98</td>\n",
       "      <td>33.20</td>\n",
       "      <td>54.30</td>\n",
       "      <td>-21.10</td>\n",
       "      <td>9.90</td>\n",
       "      <td>-9.90</td>\n",
       "      <td>1.0</td>\n",
       "      <td>NaN</td>\n",
       "    </tr>\n",
       "    <tr>\n",
       "      <th>1</th>\n",
       "      <td>87926</td>\n",
       "      <td>1998_Gov-G_OH</td>\n",
       "      <td>1998</td>\n",
       "      <td>OH</td>\n",
       "      <td>Gov-G</td>\n",
       "      <td>University of Cincinnati (Ohio Poll)</td>\n",
       "      <td>10/13/98</td>\n",
       "      <td>540.0</td>\n",
       "      <td>Democrat</td>\n",
       "      <td>37.0</td>\n",
       "      <td>...</td>\n",
       "      <td>NaN</td>\n",
       "      <td>-15.0</td>\n",
       "      <td>11/3/98</td>\n",
       "      <td>44.70</td>\n",
       "      <td>50.10</td>\n",
       "      <td>-5.40</td>\n",
       "      <td>9.60</td>\n",
       "      <td>-9.60</td>\n",
       "      <td>1.0</td>\n",
       "      <td>NaN</td>\n",
       "    </tr>\n",
       "    <tr>\n",
       "      <th>2</th>\n",
       "      <td>5380001</td>\n",
       "      <td>1998_House-G_ID-1</td>\n",
       "      <td>1998</td>\n",
       "      <td>ID-1</td>\n",
       "      <td>House-G</td>\n",
       "      <td>Garin-Hart-Yang Research Group</td>\n",
       "      <td>10/13/98</td>\n",
       "      <td>372.0</td>\n",
       "      <td>Democrat</td>\n",
       "      <td>44.0</td>\n",
       "      <td>...</td>\n",
       "      <td>NaN</td>\n",
       "      <td>2.0</td>\n",
       "      <td>11/3/98</td>\n",
       "      <td>44.73</td>\n",
       "      <td>55.27</td>\n",
       "      <td>-10.54</td>\n",
       "      <td>12.54</td>\n",
       "      <td>12.54</td>\n",
       "      <td>0.0</td>\n",
       "      <td>D</td>\n",
       "    </tr>\n",
       "    <tr>\n",
       "      <th>3</th>\n",
       "      <td>5380002</td>\n",
       "      <td>1998_House-G_ID-2</td>\n",
       "      <td>1998</td>\n",
       "      <td>ID-2</td>\n",
       "      <td>House-G</td>\n",
       "      <td>Garin-Hart-Yang Research Group</td>\n",
       "      <td>10/13/98</td>\n",
       "      <td>400.0</td>\n",
       "      <td>Democrat</td>\n",
       "      <td>42.0</td>\n",
       "      <td>...</td>\n",
       "      <td>NaN</td>\n",
       "      <td>6.0</td>\n",
       "      <td>11/3/98</td>\n",
       "      <td>44.69</td>\n",
       "      <td>52.51</td>\n",
       "      <td>-7.82</td>\n",
       "      <td>13.82</td>\n",
       "      <td>13.82</td>\n",
       "      <td>0.0</td>\n",
       "      <td>D</td>\n",
       "    </tr>\n",
       "    <tr>\n",
       "      <th>4</th>\n",
       "      <td>5380003</td>\n",
       "      <td>1998_House-G_US</td>\n",
       "      <td>1998</td>\n",
       "      <td>US</td>\n",
       "      <td>House-G</td>\n",
       "      <td>Zogby Interactive/JZ Analytics</td>\n",
       "      <td>10/13/98</td>\n",
       "      <td>864.0</td>\n",
       "      <td>Democrat</td>\n",
       "      <td>39.0</td>\n",
       "      <td>...</td>\n",
       "      <td>NaN</td>\n",
       "      <td>3.0</td>\n",
       "      <td>11/3/98</td>\n",
       "      <td>46.42</td>\n",
       "      <td>47.99</td>\n",
       "      <td>-1.57</td>\n",
       "      <td>4.57</td>\n",
       "      <td>4.57</td>\n",
       "      <td>0.0</td>\n",
       "      <td>NaN</td>\n",
       "    </tr>\n",
       "  </tbody>\n",
       "</table>\n",
       "<p>5 rows × 22 columns</p>\n",
       "</div>"
      ],
      "text/plain": [
       "    pollno               race  year location type_simple  \\\n",
       "0    87909      1998_Gov-G_NY  1998       NY       Gov-G   \n",
       "1    87926      1998_Gov-G_OH  1998       OH       Gov-G   \n",
       "2  5380001  1998_House-G_ID-1  1998     ID-1     House-G   \n",
       "3  5380002  1998_House-G_ID-2  1998     ID-2     House-G   \n",
       "4  5380003    1998_House-G_US  1998       US     House-G   \n",
       "\n",
       "                               pollster  polldate  samplesize cand1_name  \\\n",
       "0              Blum & Weprin Associates  10/13/98       364.0   Democrat   \n",
       "1  University of Cincinnati (Ohio Poll)  10/13/98       540.0   Democrat   \n",
       "2        Garin-Hart-Yang Research Group  10/13/98       372.0   Democrat   \n",
       "3        Garin-Hart-Yang Research Group  10/13/98       400.0   Democrat   \n",
       "4        Zogby Interactive/JZ Analytics  10/13/98       864.0   Democrat   \n",
       "\n",
       "   cand1_pct  ... cand3_pct  margin_poll  electiondate  cand1_actual  \\\n",
       "0       26.0  ...       9.0        -31.0       11/3/98         33.20   \n",
       "1       37.0  ...       NaN        -15.0       11/3/98         44.70   \n",
       "2       44.0  ...       NaN          2.0       11/3/98         44.73   \n",
       "3       42.0  ...       NaN          6.0       11/3/98         44.69   \n",
       "4       39.0  ...       NaN          3.0       11/3/98         46.42   \n",
       "\n",
       "  cand2_actual  margin_actual  error   bias  rightcall  partisan  \n",
       "0        54.30         -21.10   9.90  -9.90        1.0       NaN  \n",
       "1        50.10          -5.40   9.60  -9.60        1.0       NaN  \n",
       "2        55.27         -10.54  12.54  12.54        0.0         D  \n",
       "3        52.51          -7.82  13.82  13.82        0.0         D  \n",
       "4        47.99          -1.57   4.57   4.57        0.0       NaN  \n",
       "\n",
       "[5 rows x 22 columns]"
      ]
     },
     "execution_count": 48,
     "metadata": {},
     "output_type": "execute_result"
    }
   ],
   "source": [
    "polls = pd.read_csv('fivethirtyeight_rawpolls.csv')\n",
    "polls.head()"
   ]
  },
  {
   "cell_type": "code",
   "execution_count": 49,
   "metadata": {},
   "outputs": [
    {
     "data": {
      "text/plain": [
       "(9132, 22)"
      ]
     },
     "execution_count": 49,
     "metadata": {},
     "output_type": "execute_result"
    }
   ],
   "source": [
    "polls.shape"
   ]
  },
  {
   "cell_type": "markdown",
   "metadata": {},
   "source": [
    "# I. Cleaning the Data"
   ]
  },
  {
   "cell_type": "markdown",
   "metadata": {},
   "source": [
    "Here are the descriptions of columns as described directly Fivethirtyeight\n",
    "\n",
    "\n",
    "<b> pollno: </b>\tFiveThirtyEight poll ID number\n",
    "\n",
    "<b> race: </b>\tElection polled\n",
    "\n",
    "<b> year: </b>\tYear of election (not year of poll)\n",
    "\n",
    "<b> location: </b>\tLocation (state or Congressional district, or \"US\" for national polls)\n",
    "\n",
    "<b> type_simple: </b>\tType of election (5 categories, Gov-G, Sen-G, Pres-G, Pres-P, House-G)\n",
    "\n",
    "<b> type_detail: </b>\tDetailed type of election (this distinguishes between Republican and Democratic primaries, for example, whereas type_simple does not)\n",
    "\n",
    "<b> pollster: </b>\tPollster name\n",
    "\n",
    "<b> partisan: </b>\tFlag for internal/partisan poll. \"D\" indicates Democratic poll, \"R\" indicates Republican poll, \"I\" indicates poll put out by independent candidate's campaign. Note that different sources define these categories differently and our categorization will often reflect the original source's definition. In other words, these definitions may be inconsistent and should be used carefully.\n",
    "\n",
    "<b> polldate: </b>\tMedian field date of the poll\n",
    "\n",
    "<b> samplesize: </b>\tSample size of the poll. Where missing, this is estimated from the poll's margin of error, or similar polls conducted by the same polling firm. A sample size of 600 is used if no better estimate is available.\n",
    "\n",
    "<b> cand1_name: </b>\tName of Candidate #1. Candidates #1 and #2 are defined as the top two finishers in the election (regardless of whether or not they were the top two candidates in the poll). In races where a Democrat and a Republican were the top two finishers, Candidate #1 is the Democrat and simply listed as \"Democrat\".\n",
    "\n",
    "<b> cand1_pct: </b>\tCandidate #1's share of the vote in the poll.\n",
    "\n",
    "<b> cand2_name: </b>\tName of Candidate #2. Candidates #1 and #2 are defined as the top two finishers in the election (regardless of whether or not they were the top two candidates in the poll). In races where a Democrat and a Republican were the top two finishers, Candidate #2 is the Republican and simply listed as \"Republican\"\n",
    "\n",
    "<b> cand2_pct: </b>\tCandidate #2's share of the vote in the poll.\n",
    "\n",
    "<b> cand3_pct: </b>\tShare of the vote for the top candidate listed in the poll, other than Candidate #1 and Candidate #2.\n",
    "\n",
    "<b> margin_poll:\t</b> Projected margin of victory (defeat) for Candidate #1. This is calculated as cand1_pct - cand2_pct. In races between a Democrat and a Republican, positive values indicate a Democratic lead; negative values a Repubican lead.\n",
    "\n",
    "<b> electiondate: </b>\tDate of election\n",
    "\n",
    "<b> cand1_actual: </b>\tActual share of vote for Candidate #1\n",
    "\n",
    "<b> cand2_actual: </b>\tActual share of vote for Candidate #2\n",
    "\n",
    "<b> margin_actual: </b>\tActual margin in the election. This is calculated as cand1_actual - cand2_actual. In races between a Democrat and a Republican, positive values indicate a Democratic win; negative values a Republican win.\n",
    "\n",
    "<b> error </b>\tAbsolute value of the difference between the actual and polled result. This is calculated as abs(margin_poll - margin_actual)\n",
    "\n",
    "<b> bias: </b>\tStatistical bias of the poll. This is calculated only for races in which the top two finishers were a Democrat and a Republican. It is calculated as margin_poll - margin_actual. Positive values indicate a Democratic bias (the Democrat did better in the poll than the election). Negative values indicate a Republican bias.\n",
    "\n",
    "<b> rightcall: </b>\tFlag to indicate whether the pollster called the outcome correctly, i.e. whether the candidate they had listed in 1st place won the election. A 1 indicates a correct call and a 0 an incorrect call; 0.5 indicates that the pollster had two or more candidates tied for the lead and one of the tied candidates won.\n",
    "comment\tAdditional information, such as alternate names for the poll."
   ]
  },
  {
   "cell_type": "markdown",
   "metadata": {},
   "source": [
    "I believe that I can delete some of these columns as extraneous, including partisan and pollno."
   ]
  },
  {
   "cell_type": "code",
   "execution_count": 50,
   "metadata": {},
   "outputs": [
    {
     "data": {
      "text/plain": [
       "(9132, 18)"
      ]
     },
     "execution_count": 50,
     "metadata": {},
     "output_type": "execute_result"
    }
   ],
   "source": [
    "polls = polls.drop(columns=['polldate', 'electiondate','pollno', 'partisan'])\n",
    "polls.head()\n",
    "polls.shape"
   ]
  },
  {
   "cell_type": "markdown",
   "metadata": {},
   "source": [
    "Lastly, I need to get dummy variables for all of the categorical data."
   ]
  },
  {
   "cell_type": "code",
   "execution_count": 51,
   "metadata": {},
   "outputs": [
    {
     "data": {
      "text/plain": [
       "(9132, 328)"
      ]
     },
     "execution_count": 51,
     "metadata": {},
     "output_type": "execute_result"
    }
   ],
   "source": [
    "#location dummy variables\n",
    "\n",
    "location_dummy = pd.get_dummies(polls['location'])\n",
    "polls = pd.concat([polls, location_dummy], axis=1)\n",
    "polls.shape"
   ]
  },
  {
   "cell_type": "code",
   "execution_count": 52,
   "metadata": {},
   "outputs": [
    {
     "data": {
      "text/plain": [
       "(9132, 333)"
      ]
     },
     "execution_count": 52,
     "metadata": {},
     "output_type": "execute_result"
    }
   ],
   "source": [
    "#type_simple dummy variables\n",
    "\n",
    "type_simple_dummy = pd.get_dummies(polls['type_simple'])\n",
    "polls = pd.concat([polls, type_simple_dummy], axis=1)\n",
    "polls.shape"
   ]
  },
  {
   "cell_type": "code",
   "execution_count": 53,
   "metadata": {},
   "outputs": [
    {
     "data": {
      "text/plain": [
       "(9132, 762)"
      ]
     },
     "execution_count": 53,
     "metadata": {},
     "output_type": "execute_result"
    }
   ],
   "source": [
    "#pollster dummy variables\n",
    "\n",
    "pollster_dummy = pd.get_dummies(polls['pollster'])\n",
    "polls=pd.concat([polls, pollster_dummy], axis=1)\n",
    "polls.shape"
   ]
  },
  {
   "cell_type": "code",
   "execution_count": 54,
   "metadata": {},
   "outputs": [
    {
     "data": {
      "text/plain": [
       "(9132, 807)"
      ]
     },
     "execution_count": 54,
     "metadata": {},
     "output_type": "execute_result"
    }
   ],
   "source": [
    "#cand1_name dummy variables\n",
    "\n",
    "cand1name_dummy = pd.get_dummies(polls['cand1_name'])\n",
    "polls = pd.concat([polls, cand1name_dummy], axis=1)\n",
    "polls.shape"
   ]
  },
  {
   "cell_type": "code",
   "execution_count": 55,
   "metadata": {},
   "outputs": [
    {
     "data": {
      "text/plain": [
       "(9132, 863)"
      ]
     },
     "execution_count": 55,
     "metadata": {},
     "output_type": "execute_result"
    }
   ],
   "source": [
    "#cand1_name dummy variables\n",
    "\n",
    "cand2name_dummy = pd.get_dummies(polls['cand2_name'])\n",
    "polls = pd.concat([polls, cand2name_dummy], axis=1)\n",
    "polls.shape"
   ]
  },
  {
   "cell_type": "code",
   "execution_count": 56,
   "metadata": {},
   "outputs": [],
   "source": [
    "#drop categorical variables now that we have dummy variables\n",
    "\n",
    "polls = polls.drop(['race', 'location', 'type_simple', 'pollster', 'cand1_name', 'cand2_name'], axis=1)"
   ]
  },
  {
   "cell_type": "code",
   "execution_count": 67,
   "metadata": {},
   "outputs": [
    {
     "name": "stdout",
     "output_type": "stream",
     "text": [
      "Index(['Bush', 'Clark', 'Clinton', 'Cruz', 'Edwards', 'Edwards (D)',\n",
      "       'Gingrich', 'Huckabee', 'Kasich', 'Kerry', 'McCain', 'Romney',\n",
      "       'Sanders', 'Santorum', 'Trump'],\n",
      "      dtype='object')\n"
     ]
    }
   ],
   "source": [
    "duplicate_columns = polls.columns[polls.columns.duplicated()]\n",
    "print(duplicate_columns)"
   ]
  },
  {
   "cell_type": "code",
   "execution_count": 68,
   "metadata": {},
   "outputs": [],
   "source": [
    "polls= polls.drop(duplicate_columns, axis=1)"
   ]
  },
  {
   "cell_type": "markdown",
   "metadata": {},
   "source": [
    "# II. Basic Features"
   ]
  },
  {
   "cell_type": "code",
   "execution_count": 69,
   "metadata": {},
   "outputs": [
    {
     "data": {
      "text/html": [
       "<div>\n",
       "<style scoped>\n",
       "    .dataframe tbody tr th:only-of-type {\n",
       "        vertical-align: middle;\n",
       "    }\n",
       "\n",
       "    .dataframe tbody tr th {\n",
       "        vertical-align: top;\n",
       "    }\n",
       "\n",
       "    .dataframe thead th {\n",
       "        text-align: right;\n",
       "    }\n",
       "</style>\n",
       "<table border=\"1\" class=\"dataframe\">\n",
       "  <thead>\n",
       "    <tr style=\"text-align: right;\">\n",
       "      <th></th>\n",
       "      <th>year</th>\n",
       "      <th>samplesize</th>\n",
       "      <th>cand1_pct</th>\n",
       "      <th>cand2_pct</th>\n",
       "      <th>cand3_pct</th>\n",
       "      <th>margin_poll</th>\n",
       "      <th>cand1_actual</th>\n",
       "      <th>cand2_actual</th>\n",
       "      <th>margin_actual</th>\n",
       "      <th>error</th>\n",
       "      <th>...</th>\n",
       "      <th>Rispone (R)</th>\n",
       "      <th>Robitallie (R)</th>\n",
       "      <th>Rubio</th>\n",
       "      <th>Sanchez (D)</th>\n",
       "      <th>Summers (R)</th>\n",
       "      <th>Tancredo (I)</th>\n",
       "      <th>Tarrant (R)</th>\n",
       "      <th>Terrell (R)</th>\n",
       "      <th>Vitter (R)</th>\n",
       "      <th>Zupan (R)</th>\n",
       "    </tr>\n",
       "  </thead>\n",
       "  <tbody>\n",
       "    <tr>\n",
       "      <th>0</th>\n",
       "      <td>1998</td>\n",
       "      <td>364.0</td>\n",
       "      <td>26.0</td>\n",
       "      <td>57.0</td>\n",
       "      <td>9.0</td>\n",
       "      <td>-31.0</td>\n",
       "      <td>33.20</td>\n",
       "      <td>54.30</td>\n",
       "      <td>-21.10</td>\n",
       "      <td>9.90</td>\n",
       "      <td>...</td>\n",
       "      <td>0</td>\n",
       "      <td>0</td>\n",
       "      <td>0</td>\n",
       "      <td>0</td>\n",
       "      <td>0</td>\n",
       "      <td>0</td>\n",
       "      <td>0</td>\n",
       "      <td>0</td>\n",
       "      <td>0</td>\n",
       "      <td>0</td>\n",
       "    </tr>\n",
       "    <tr>\n",
       "      <th>1</th>\n",
       "      <td>1998</td>\n",
       "      <td>540.0</td>\n",
       "      <td>37.0</td>\n",
       "      <td>52.0</td>\n",
       "      <td>NaN</td>\n",
       "      <td>-15.0</td>\n",
       "      <td>44.70</td>\n",
       "      <td>50.10</td>\n",
       "      <td>-5.40</td>\n",
       "      <td>9.60</td>\n",
       "      <td>...</td>\n",
       "      <td>0</td>\n",
       "      <td>0</td>\n",
       "      <td>0</td>\n",
       "      <td>0</td>\n",
       "      <td>0</td>\n",
       "      <td>0</td>\n",
       "      <td>0</td>\n",
       "      <td>0</td>\n",
       "      <td>0</td>\n",
       "      <td>0</td>\n",
       "    </tr>\n",
       "    <tr>\n",
       "      <th>2</th>\n",
       "      <td>1998</td>\n",
       "      <td>372.0</td>\n",
       "      <td>44.0</td>\n",
       "      <td>42.0</td>\n",
       "      <td>NaN</td>\n",
       "      <td>2.0</td>\n",
       "      <td>44.73</td>\n",
       "      <td>55.27</td>\n",
       "      <td>-10.54</td>\n",
       "      <td>12.54</td>\n",
       "      <td>...</td>\n",
       "      <td>0</td>\n",
       "      <td>0</td>\n",
       "      <td>0</td>\n",
       "      <td>0</td>\n",
       "      <td>0</td>\n",
       "      <td>0</td>\n",
       "      <td>0</td>\n",
       "      <td>0</td>\n",
       "      <td>0</td>\n",
       "      <td>0</td>\n",
       "    </tr>\n",
       "    <tr>\n",
       "      <th>3</th>\n",
       "      <td>1998</td>\n",
       "      <td>400.0</td>\n",
       "      <td>42.0</td>\n",
       "      <td>36.0</td>\n",
       "      <td>NaN</td>\n",
       "      <td>6.0</td>\n",
       "      <td>44.69</td>\n",
       "      <td>52.51</td>\n",
       "      <td>-7.82</td>\n",
       "      <td>13.82</td>\n",
       "      <td>...</td>\n",
       "      <td>0</td>\n",
       "      <td>0</td>\n",
       "      <td>0</td>\n",
       "      <td>0</td>\n",
       "      <td>0</td>\n",
       "      <td>0</td>\n",
       "      <td>0</td>\n",
       "      <td>0</td>\n",
       "      <td>0</td>\n",
       "      <td>0</td>\n",
       "    </tr>\n",
       "    <tr>\n",
       "      <th>4</th>\n",
       "      <td>1998</td>\n",
       "      <td>864.0</td>\n",
       "      <td>39.0</td>\n",
       "      <td>36.0</td>\n",
       "      <td>NaN</td>\n",
       "      <td>3.0</td>\n",
       "      <td>46.42</td>\n",
       "      <td>47.99</td>\n",
       "      <td>-1.57</td>\n",
       "      <td>4.57</td>\n",
       "      <td>...</td>\n",
       "      <td>0</td>\n",
       "      <td>0</td>\n",
       "      <td>0</td>\n",
       "      <td>0</td>\n",
       "      <td>0</td>\n",
       "      <td>0</td>\n",
       "      <td>0</td>\n",
       "      <td>0</td>\n",
       "      <td>0</td>\n",
       "      <td>0</td>\n",
       "    </tr>\n",
       "  </tbody>\n",
       "</table>\n",
       "<p>5 rows × 827 columns</p>\n",
       "</div>"
      ],
      "text/plain": [
       "   year  samplesize  cand1_pct  cand2_pct  cand3_pct  margin_poll  \\\n",
       "0  1998       364.0       26.0       57.0        9.0        -31.0   \n",
       "1  1998       540.0       37.0       52.0        NaN        -15.0   \n",
       "2  1998       372.0       44.0       42.0        NaN          2.0   \n",
       "3  1998       400.0       42.0       36.0        NaN          6.0   \n",
       "4  1998       864.0       39.0       36.0        NaN          3.0   \n",
       "\n",
       "   cand1_actual  cand2_actual  margin_actual  error  ...  Rispone (R)  \\\n",
       "0         33.20         54.30         -21.10   9.90  ...            0   \n",
       "1         44.70         50.10          -5.40   9.60  ...            0   \n",
       "2         44.73         55.27         -10.54  12.54  ...            0   \n",
       "3         44.69         52.51          -7.82  13.82  ...            0   \n",
       "4         46.42         47.99          -1.57   4.57  ...            0   \n",
       "\n",
       "   Robitallie (R)  Rubio  Sanchez (D)  Summers (R)  Tancredo (I)  Tarrant (R)  \\\n",
       "0               0      0            0            0             0            0   \n",
       "1               0      0            0            0             0            0   \n",
       "2               0      0            0            0             0            0   \n",
       "3               0      0            0            0             0            0   \n",
       "4               0      0            0            0             0            0   \n",
       "\n",
       "   Terrell (R)  Vitter (R)  Zupan (R)  \n",
       "0            0           0          0  \n",
       "1            0           0          0  \n",
       "2            0           0          0  \n",
       "3            0           0          0  \n",
       "4            0           0          0  \n",
       "\n",
       "[5 rows x 827 columns]"
      ]
     },
     "execution_count": 69,
     "metadata": {},
     "output_type": "execute_result"
    }
   ],
   "source": [
    "polls.head()"
   ]
  },
  {
   "cell_type": "code",
   "execution_count": 70,
   "metadata": {
    "scrolled": true
   },
   "outputs": [
    {
     "data": {
      "text/html": [
       "<div>\n",
       "<style scoped>\n",
       "    .dataframe tbody tr th:only-of-type {\n",
       "        vertical-align: middle;\n",
       "    }\n",
       "\n",
       "    .dataframe tbody tr th {\n",
       "        vertical-align: top;\n",
       "    }\n",
       "\n",
       "    .dataframe thead th {\n",
       "        text-align: right;\n",
       "    }\n",
       "</style>\n",
       "<table border=\"1\" class=\"dataframe\">\n",
       "  <thead>\n",
       "    <tr style=\"text-align: right;\">\n",
       "      <th></th>\n",
       "      <th>year</th>\n",
       "      <th>samplesize</th>\n",
       "      <th>cand1_pct</th>\n",
       "      <th>cand2_pct</th>\n",
       "      <th>cand3_pct</th>\n",
       "      <th>margin_poll</th>\n",
       "      <th>cand1_actual</th>\n",
       "      <th>cand2_actual</th>\n",
       "      <th>margin_actual</th>\n",
       "      <th>error</th>\n",
       "      <th>...</th>\n",
       "      <th>Rispone (R)</th>\n",
       "      <th>Robitallie (R)</th>\n",
       "      <th>Rubio</th>\n",
       "      <th>Sanchez (D)</th>\n",
       "      <th>Summers (R)</th>\n",
       "      <th>Tancredo (I)</th>\n",
       "      <th>Tarrant (R)</th>\n",
       "      <th>Terrell (R)</th>\n",
       "      <th>Vitter (R)</th>\n",
       "      <th>Zupan (R)</th>\n",
       "    </tr>\n",
       "  </thead>\n",
       "  <tbody>\n",
       "    <tr>\n",
       "      <th>count</th>\n",
       "      <td>9132.000000</td>\n",
       "      <td>9132.000000</td>\n",
       "      <td>9132.000000</td>\n",
       "      <td>9132.000000</td>\n",
       "      <td>2784.000000</td>\n",
       "      <td>9132.000000</td>\n",
       "      <td>9132.000000</td>\n",
       "      <td>9132.000000</td>\n",
       "      <td>9132.000000</td>\n",
       "      <td>9132.000000</td>\n",
       "      <td>...</td>\n",
       "      <td>9132.000000</td>\n",
       "      <td>9132.000000</td>\n",
       "      <td>9132.000000</td>\n",
       "      <td>9132.000000</td>\n",
       "      <td>9132.000000</td>\n",
       "      <td>9132.000000</td>\n",
       "      <td>9132.000000</td>\n",
       "      <td>9132.000000</td>\n",
       "      <td>9132.000000</td>\n",
       "      <td>9132.000000</td>\n",
       "    </tr>\n",
       "    <tr>\n",
       "      <th>mean</th>\n",
       "      <td>2009.052124</td>\n",
       "      <td>854.101803</td>\n",
       "      <td>44.711389</td>\n",
       "      <td>42.721669</td>\n",
       "      <td>9.146070</td>\n",
       "      <td>1.989719</td>\n",
       "      <td>48.331067</td>\n",
       "      <td>45.879433</td>\n",
       "      <td>2.451574</td>\n",
       "      <td>5.422742</td>\n",
       "      <td>...</td>\n",
       "      <td>0.001314</td>\n",
       "      <td>0.000657</td>\n",
       "      <td>0.006899</td>\n",
       "      <td>0.000657</td>\n",
       "      <td>0.000219</td>\n",
       "      <td>0.001643</td>\n",
       "      <td>0.000110</td>\n",
       "      <td>0.000329</td>\n",
       "      <td>0.000767</td>\n",
       "      <td>0.000110</td>\n",
       "    </tr>\n",
       "    <tr>\n",
       "      <th>std</th>\n",
       "      <td>5.654058</td>\n",
       "      <td>1561.992838</td>\n",
       "      <td>8.544382</td>\n",
       "      <td>9.604536</td>\n",
       "      <td>7.232084</td>\n",
       "      <td>14.436170</td>\n",
       "      <td>8.213888</td>\n",
       "      <td>9.460073</td>\n",
       "      <td>15.294435</td>\n",
       "      <td>4.820233</td>\n",
       "      <td>...</td>\n",
       "      <td>0.036228</td>\n",
       "      <td>0.025626</td>\n",
       "      <td>0.082777</td>\n",
       "      <td>0.025626</td>\n",
       "      <td>0.014798</td>\n",
       "      <td>0.040498</td>\n",
       "      <td>0.010464</td>\n",
       "      <td>0.018123</td>\n",
       "      <td>0.027677</td>\n",
       "      <td>0.010464</td>\n",
       "    </tr>\n",
       "    <tr>\n",
       "      <th>min</th>\n",
       "      <td>1998.000000</td>\n",
       "      <td>113.000000</td>\n",
       "      <td>3.000000</td>\n",
       "      <td>4.000000</td>\n",
       "      <td>0.000000</td>\n",
       "      <td>-80.000000</td>\n",
       "      <td>5.400000</td>\n",
       "      <td>4.090000</td>\n",
       "      <td>-84.100000</td>\n",
       "      <td>0.000000</td>\n",
       "      <td>...</td>\n",
       "      <td>0.000000</td>\n",
       "      <td>0.000000</td>\n",
       "      <td>0.000000</td>\n",
       "      <td>0.000000</td>\n",
       "      <td>0.000000</td>\n",
       "      <td>0.000000</td>\n",
       "      <td>0.000000</td>\n",
       "      <td>0.000000</td>\n",
       "      <td>0.000000</td>\n",
       "      <td>0.000000</td>\n",
       "    </tr>\n",
       "    <tr>\n",
       "      <th>25%</th>\n",
       "      <td>2004.000000</td>\n",
       "      <td>500.000000</td>\n",
       "      <td>41.000000</td>\n",
       "      <td>38.000000</td>\n",
       "      <td>3.375000</td>\n",
       "      <td>-5.000000</td>\n",
       "      <td>44.310000</td>\n",
       "      <td>41.852500</td>\n",
       "      <td>-5.010000</td>\n",
       "      <td>1.987500</td>\n",
       "      <td>...</td>\n",
       "      <td>0.000000</td>\n",
       "      <td>0.000000</td>\n",
       "      <td>0.000000</td>\n",
       "      <td>0.000000</td>\n",
       "      <td>0.000000</td>\n",
       "      <td>0.000000</td>\n",
       "      <td>0.000000</td>\n",
       "      <td>0.000000</td>\n",
       "      <td>0.000000</td>\n",
       "      <td>0.000000</td>\n",
       "    </tr>\n",
       "    <tr>\n",
       "      <th>50%</th>\n",
       "      <td>2008.000000</td>\n",
       "      <td>625.000000</td>\n",
       "      <td>45.880000</td>\n",
       "      <td>44.000000</td>\n",
       "      <td>7.000000</td>\n",
       "      <td>2.000000</td>\n",
       "      <td>48.480000</td>\n",
       "      <td>47.150000</td>\n",
       "      <td>2.360000</td>\n",
       "      <td>4.210000</td>\n",
       "      <td>...</td>\n",
       "      <td>0.000000</td>\n",
       "      <td>0.000000</td>\n",
       "      <td>0.000000</td>\n",
       "      <td>0.000000</td>\n",
       "      <td>0.000000</td>\n",
       "      <td>0.000000</td>\n",
       "      <td>0.000000</td>\n",
       "      <td>0.000000</td>\n",
       "      <td>0.000000</td>\n",
       "      <td>0.000000</td>\n",
       "    </tr>\n",
       "    <tr>\n",
       "      <th>75%</th>\n",
       "      <td>2014.000000</td>\n",
       "      <td>871.000000</td>\n",
       "      <td>49.600000</td>\n",
       "      <td>48.000000</td>\n",
       "      <td>14.000000</td>\n",
       "      <td>9.000000</td>\n",
       "      <td>52.920000</td>\n",
       "      <td>51.010000</td>\n",
       "      <td>10.450000</td>\n",
       "      <td>7.500000</td>\n",
       "      <td>...</td>\n",
       "      <td>0.000000</td>\n",
       "      <td>0.000000</td>\n",
       "      <td>0.000000</td>\n",
       "      <td>0.000000</td>\n",
       "      <td>0.000000</td>\n",
       "      <td>0.000000</td>\n",
       "      <td>0.000000</td>\n",
       "      <td>0.000000</td>\n",
       "      <td>0.000000</td>\n",
       "      <td>0.000000</td>\n",
       "    </tr>\n",
       "    <tr>\n",
       "      <th>max</th>\n",
       "      <td>2019.000000</td>\n",
       "      <td>70194.000000</td>\n",
       "      <td>88.000000</td>\n",
       "      <td>84.000000</td>\n",
       "      <td>38.000000</td>\n",
       "      <td>84.000000</td>\n",
       "      <td>90.860000</td>\n",
       "      <td>89.500000</td>\n",
       "      <td>86.780000</td>\n",
       "      <td>50.980000</td>\n",
       "      <td>...</td>\n",
       "      <td>1.000000</td>\n",
       "      <td>1.000000</td>\n",
       "      <td>1.000000</td>\n",
       "      <td>1.000000</td>\n",
       "      <td>1.000000</td>\n",
       "      <td>1.000000</td>\n",
       "      <td>1.000000</td>\n",
       "      <td>1.000000</td>\n",
       "      <td>1.000000</td>\n",
       "      <td>1.000000</td>\n",
       "    </tr>\n",
       "  </tbody>\n",
       "</table>\n",
       "<p>8 rows × 827 columns</p>\n",
       "</div>"
      ],
      "text/plain": [
       "              year    samplesize    cand1_pct    cand2_pct    cand3_pct  \\\n",
       "count  9132.000000   9132.000000  9132.000000  9132.000000  2784.000000   \n",
       "mean   2009.052124    854.101803    44.711389    42.721669     9.146070   \n",
       "std       5.654058   1561.992838     8.544382     9.604536     7.232084   \n",
       "min    1998.000000    113.000000     3.000000     4.000000     0.000000   \n",
       "25%    2004.000000    500.000000    41.000000    38.000000     3.375000   \n",
       "50%    2008.000000    625.000000    45.880000    44.000000     7.000000   \n",
       "75%    2014.000000    871.000000    49.600000    48.000000    14.000000   \n",
       "max    2019.000000  70194.000000    88.000000    84.000000    38.000000   \n",
       "\n",
       "       margin_poll  cand1_actual  cand2_actual  margin_actual        error  \\\n",
       "count  9132.000000   9132.000000   9132.000000    9132.000000  9132.000000   \n",
       "mean      1.989719     48.331067     45.879433       2.451574     5.422742   \n",
       "std      14.436170      8.213888      9.460073      15.294435     4.820233   \n",
       "min     -80.000000      5.400000      4.090000     -84.100000     0.000000   \n",
       "25%      -5.000000     44.310000     41.852500      -5.010000     1.987500   \n",
       "50%       2.000000     48.480000     47.150000       2.360000     4.210000   \n",
       "75%       9.000000     52.920000     51.010000      10.450000     7.500000   \n",
       "max      84.000000     90.860000     89.500000      86.780000    50.980000   \n",
       "\n",
       "       ...  Rispone (R)  Robitallie (R)        Rubio  Sanchez (D)  \\\n",
       "count  ...  9132.000000     9132.000000  9132.000000  9132.000000   \n",
       "mean   ...     0.001314        0.000657     0.006899     0.000657   \n",
       "std    ...     0.036228        0.025626     0.082777     0.025626   \n",
       "min    ...     0.000000        0.000000     0.000000     0.000000   \n",
       "25%    ...     0.000000        0.000000     0.000000     0.000000   \n",
       "50%    ...     0.000000        0.000000     0.000000     0.000000   \n",
       "75%    ...     0.000000        0.000000     0.000000     0.000000   \n",
       "max    ...     1.000000        1.000000     1.000000     1.000000   \n",
       "\n",
       "       Summers (R)  Tancredo (I)  Tarrant (R)  Terrell (R)   Vitter (R)  \\\n",
       "count  9132.000000   9132.000000  9132.000000  9132.000000  9132.000000   \n",
       "mean      0.000219      0.001643     0.000110     0.000329     0.000767   \n",
       "std       0.014798      0.040498     0.010464     0.018123     0.027677   \n",
       "min       0.000000      0.000000     0.000000     0.000000     0.000000   \n",
       "25%       0.000000      0.000000     0.000000     0.000000     0.000000   \n",
       "50%       0.000000      0.000000     0.000000     0.000000     0.000000   \n",
       "75%       0.000000      0.000000     0.000000     0.000000     0.000000   \n",
       "max       1.000000      1.000000     1.000000     1.000000     1.000000   \n",
       "\n",
       "         Zupan (R)  \n",
       "count  9132.000000  \n",
       "mean      0.000110  \n",
       "std       0.010464  \n",
       "min       0.000000  \n",
       "25%       0.000000  \n",
       "50%       0.000000  \n",
       "75%       0.000000  \n",
       "max       1.000000  \n",
       "\n",
       "[8 rows x 827 columns]"
      ]
     },
     "execution_count": 70,
     "metadata": {},
     "output_type": "execute_result"
    }
   ],
   "source": [
    "polls.describe()"
   ]
  },
  {
   "cell_type": "markdown",
   "metadata": {},
   "source": [
    "## II. What do I want to explore?"
   ]
  },
  {
   "cell_type": "markdown",
   "metadata": {},
   "source": [
    "I am most interested in exploring the error associated with polls as a means of determining reliability. I will explore the error, including histograms and scatter plots of various factors and the error. Because the error is a calculation of margins of error, I also will explore the margins of actual and predicted outcomes."
   ]
  },
  {
   "cell_type": "code",
   "execution_count": 20,
   "metadata": {},
   "outputs": [
    {
     "data": {
      "image/png": "[encoded data removed]",
      "text/plain": [
       "<Figure size 432x288 with 1 Axes>"
      ]
     },
     "metadata": {
      "needs_background": "light"
     },
     "output_type": "display_data"
    }
   ],
   "source": [
    "sns.set\n",
    "fig = sns.distplot(polls.error, kde=False, rug=True)"
   ]
  },
  {
   "cell_type": "markdown",
   "metadata": {},
   "source": [
    "Similarly, I am also interested in how sample size is associate with error. While we know that large sample sizes for polls are probably more representative, an interesting question is about the minimum sample size needed to determine reliability."
   ]
  },
  {
   "cell_type": "code",
   "execution_count": 59,
   "metadata": {},
   "outputs": [
    {
     "data": {
      "text/plain": [
       "<seaborn.axisgrid.FacetGrid at 0x1a1ad9a950>"
      ]
     },
     "execution_count": 59,
     "metadata": {},
     "output_type": "execute_result"
    },
    {
     "data": {
      "image/png": "[encoded data removed]",
      "text/plain": [
       "<Figure size 360x360 with 1 Axes>"
      ]
     },
     "metadata": {
      "needs_background": "light"
     },
     "output_type": "display_data"
    }
   ],
   "source": [
    "sns.lmplot(x='year', y='samplesize', data=polls)"
   ]
  },
  {
   "cell_type": "code",
   "execution_count": 37,
   "metadata": {},
   "outputs": [
    {
     "data": {
      "image/png": "[encoded data removed]",
      "text/plain": [
       "<Figure size 432x288 with 1 Axes>"
      ]
     },
     "metadata": {
      "needs_background": "light"
     },
     "output_type": "display_data"
    }
   ],
   "source": [
    "_ = plt.hist(polls['samplesize'], bins=30)\n",
    "plt.xlim([0,20000])\n",
    "plt.show()"
   ]
  },
  {
   "cell_type": "markdown",
   "metadata": {},
   "source": [
    "Bias is also an important indicator of reliability. In this data, bias is its own unique column calculated as margin_poll - margin_actual. Positive values indicate that a Democrat did better in the poll than the actual election, and negative values mean a republican did better in the poll than the actual election. Significant outliers in bias and error will allow us to also complete more feature engineering as needed."
   ]
  },
  {
   "cell_type": "code",
   "execution_count": 60,
   "metadata": {},
   "outputs": [
    {
     "data": {
      "image/png": "[encoded data removed]",
      "text/plain": [
       "<Figure size 1008x576 with 1 Axes>"
      ]
     },
     "metadata": {
      "needs_background": "light"
     },
     "output_type": "display_data"
    }
   ],
   "source": [
    "polls.hist(column='bias', bins = 20, grid = False, figsize = (14,8), edgecolor='black')\n",
    "plt.xlabel('Percent bias (margin of actual election - margin of poll prediction)', fontsize=15)\n",
    "plt.ylabel('Frequency', fontsize=15)\n",
    "plt.title('Distribution of Bias')\n",
    "plt.show()"
   ]
  },
  {
   "cell_type": "code",
   "execution_count": 61,
   "metadata": {},
   "outputs": [
    {
     "data": {
      "image/png": "[encoded data removed]",
      "text/plain": [
       "<Figure size 432x288 with 1 Axes>"
      ]
     },
     "metadata": {
      "needs_background": "light"
     },
     "output_type": "display_data"
    }
   ],
   "source": [
    "plt.scatter(polls.margin_poll, polls.margin_actual, marker='.', alpha=0.5)\n",
    "plt.xlabel('Predicted margin of Victory')\n",
    "plt.ylabel('Actual margin of Victory of election')\n",
    "plt.title('Scatter plot of Predicted margin of victory versus Election outcome')\n",
    "plt.grid()\n",
    "plt.show()"
   ]
  },
  {
   "cell_type": "markdown",
   "metadata": {},
   "source": [
    "# Machine Learning and Creating a Model"
   ]
  },
  {
   "cell_type": "markdown",
   "metadata": {},
   "source": [
    "I am interested in creating a regression that predicts the error of a model. Because I suspect some features may have a greater impact on the result and I want to use the most up-to-date methods, I will start by using the following methods:\n",
    "\n",
    "1) Ridge Regression\n",
    "\n",
    "2) Lasso Regression\n",
    "\n",
    "3) Xgboost (Tree-based method)\n",
    "\n",
    "Hopefully this will provide a clearer idea of the best predictor."
   ]
  },
  {
   "cell_type": "code",
   "execution_count": 71,
   "metadata": {},
   "outputs": [],
   "source": [
    "#import models to use\n",
    "from sklearn.linear_model import Ridge\n",
    "from sklearn.linear_model import Lasso\n",
    "from xgboost import XGBRegressor\n",
    "\n",
    "#import analysis and processing tools\n",
    "from sklearn.model_selection import train_test_split\n",
    "from sklearn.metrics import accuracy_score\n",
    "from sklearn.metrics import roc_curve\n",
    "from sklearn.metrics import roc_auc_score\n",
    "from sklearn.metrics import precision_recall_curve\n"
   ]
  },
  {
   "cell_type": "code",
   "execution_count": 72,
   "metadata": {},
   "outputs": [],
   "source": [
    "#create data to run\n",
    "\n",
    "X = polls.drop(columns=['error'])\n",
    "y = polls['error']\n",
    "\n",
    "#establish test size and random seed\n",
    "test_size=0.33\n",
    "seed=42\n",
    "\n",
    "X_train, X_test, y_train, y_test = train_test_split(X, y, test_size=test_size, random_state = seed)\n",
    "\n"
   ]
  },
  {
   "cell_type": "code",
   "execution_count": 73,
   "metadata": {},
   "outputs": [
    {
     "name": "stdout",
     "output_type": "stream",
     "text": [
      "[15:03:24] WARNING: src/objective/regression_obj.cu:152: reg:linear is now deprecated in favor of reg:squarederror.\n",
      "XGBRegressor(base_score=0.5, booster='gbtree', colsample_bylevel=1,\n",
      "             colsample_bynode=1, colsample_bytree=1, gamma=0,\n",
      "             importance_type='gain', learning_rate=0.1, max_delta_step=0,\n",
      "             max_depth=3, min_child_weight=1, missing=None, n_estimators=100,\n",
      "             n_jobs=1, nthread=None, objective='reg:linear', random_state=0,\n",
      "             reg_alpha=0, reg_lambda=1, scale_pos_weight=1, seed=None,\n",
      "             silent=None, subsample=1, verbosity=1)\n"
     ]
    }
   ],
   "source": [
    "#run Xgboost\n",
    "\n",
    "model= XGBRegressor()\n",
    "\n",
    "model.fit(X_train, y_train)\n",
    "\n",
    "print(model)"
   ]
  },
  {
   "cell_type": "code",
   "execution_count": 74,
   "metadata": {},
   "outputs": [],
   "source": [
    "y_pred = model.predict(X_test)"
   ]
  },
  {
   "cell_type": "code",
   "execution_count": 76,
   "metadata": {},
   "outputs": [
    {
     "name": "stdout",
     "output_type": "stream",
     "text": [
      "The R-squared Score of the model is : 0.8535924289866134\n"
     ]
    }
   ],
   "source": [
    "from sklearn.metrics import r2_score\n",
    "r2 = r2_score(y_test, y_pred)\n",
    "print('The R-squared Score of the model is :', r2)"
   ]
  },
  {
   "cell_type": "code",
   "execution_count": 77,
   "metadata": {},
   "outputs": [
    {
     "ename": "ValueError",
     "evalue": "continuous format is not supported",
     "output_type": "error",
     "traceback": [
      "\u001b[0;31m---------------------------------------------------------------------------\u001b[0m",
      "\u001b[0;31mValueError\u001b[0m                                Traceback (most recent call last)",
      "\u001b[0;32m<ipython-input-77-fae82738fdf2>\u001b[0m in \u001b[0;36m<module>\u001b[0;34m\u001b[0m\n\u001b[0;32m----> 1\u001b[0;31m \u001b[0mroc_curve\u001b[0m\u001b[0;34m(\u001b[0m\u001b[0my_test\u001b[0m\u001b[0;34m,\u001b[0m \u001b[0my_pred\u001b[0m\u001b[0;34m)\u001b[0m\u001b[0;34m\u001b[0m\u001b[0;34m\u001b[0m\u001b[0m\n\u001b[0m",
      "\u001b[0;32m~/opt/anaconda3/lib/python3.7/site-packages/sklearn/metrics/_ranking.py\u001b[0m in \u001b[0;36mroc_curve\u001b[0;34m(y_true, y_score, pos_label, sample_weight, drop_intermediate)\u001b[0m\n\u001b[1;32m    769\u001b[0m     \"\"\"\n\u001b[1;32m    770\u001b[0m     fps, tps, thresholds = _binary_clf_curve(\n\u001b[0;32m--> 771\u001b[0;31m         y_true, y_score, pos_label=pos_label, sample_weight=sample_weight)\n\u001b[0m\u001b[1;32m    772\u001b[0m \u001b[0;34m\u001b[0m\u001b[0m\n\u001b[1;32m    773\u001b[0m     \u001b[0;31m# Attempt to drop thresholds corresponding to points in between and\u001b[0m\u001b[0;34m\u001b[0m\u001b[0;34m\u001b[0m\u001b[0;34m\u001b[0m\u001b[0m\n",
      "\u001b[0;32m~/opt/anaconda3/lib/python3.7/site-packages/sklearn/metrics/_ranking.py\u001b[0m in \u001b[0;36m_binary_clf_curve\u001b[0;34m(y_true, y_score, pos_label, sample_weight)\u001b[0m\n\u001b[1;32m    534\u001b[0m     if not (y_type == \"binary\" or\n\u001b[1;32m    535\u001b[0m             (y_type == \"multiclass\" and pos_label is not None)):\n\u001b[0;32m--> 536\u001b[0;31m         \u001b[0;32mraise\u001b[0m \u001b[0mValueError\u001b[0m\u001b[0;34m(\u001b[0m\u001b[0;34m\"{0} format is not supported\"\u001b[0m\u001b[0;34m.\u001b[0m\u001b[0mformat\u001b[0m\u001b[0;34m(\u001b[0m\u001b[0my_type\u001b[0m\u001b[0;34m)\u001b[0m\u001b[0;34m)\u001b[0m\u001b[0;34m\u001b[0m\u001b[0;34m\u001b[0m\u001b[0m\n\u001b[0m\u001b[1;32m    537\u001b[0m \u001b[0;34m\u001b[0m\u001b[0m\n\u001b[1;32m    538\u001b[0m     \u001b[0mcheck_consistent_length\u001b[0m\u001b[0;34m(\u001b[0m\u001b[0my_true\u001b[0m\u001b[0;34m,\u001b[0m \u001b[0my_score\u001b[0m\u001b[0;34m,\u001b[0m \u001b[0msample_weight\u001b[0m\u001b[0;34m)\u001b[0m\u001b[0;34m\u001b[0m\u001b[0;34m\u001b[0m\u001b[0m\n",
      "\u001b[0;31mValueError\u001b[0m: continuous format is not supported"
     ]
    }
   ],
   "source": []
  },
  {
   "cell_type": "code",
   "execution_count": null,
   "metadata": {},
   "outputs": [],
   "source": []
  }
 ],
 "metadata": {
  "kernelspec": {
   "display_name": "Python 3",
   "language": "python",
   "name": "python3"
  },
  "language_info": {
   "codemirror_mode": {
    "name": "ipython",
    "version": 3
   },
   "file_extension": ".py",
   "mimetype": "text/x-python",
   "name": "python",
   "nbconvert_exporter": "python",
   "pygments_lexer": "ipython3",
   "version": "3.7.6"
  }
 },
 "nbformat": 4,
 "nbformat_minor": 2
}
